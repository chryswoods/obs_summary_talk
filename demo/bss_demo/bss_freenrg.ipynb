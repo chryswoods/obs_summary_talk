{
 "cells": [
  {
   "cell_type": "markdown",
   "id": "d386ec7d-4373-4077-b94d-d634cc392245",
   "metadata": {},
   "source": [
    "# BioSimSpace - Calculating Relative Free Energies\n",
    "\n",
    "BioSimSpace can bring together all the tools needed to calculate relative free energies.\n",
    "\n",
    "Here, we will do a small example, calculating the relative hydration free energy of ethane and methanol.\n"
   ]
  },
  {
   "cell_type": "code",
   "execution_count": null,
   "id": "7dadd464-1b30-40a7-bfe1-b9fbb6324148",
   "metadata": {},
   "outputs": [],
   "source": [
    "import BioSimSpace as BSS"
   ]
  },
  {
   "cell_type": "markdown",
   "id": "a7797125-62ed-4c3a-856c-c977890c3c52",
   "metadata": {},
   "source": [
    "We start by constructing both molecules from smiles strings (using RDKit) and parameterising (using GAFF in Antechamber)."
   ]
  },
  {
   "cell_type": "code",
   "execution_count": null,
   "id": "1cd3fff7-b262-4c58-88d7-bcf2f9520079",
   "metadata": {},
   "outputs": [],
   "source": [
    "ethane = BSS.Parameters.gaff(\"CC\").getMolecule()\n",
    "methanol = BSS.Parameters.gaff(\"CO\").getMolecule()"
   ]
  },
  {
   "cell_type": "markdown",
   "id": "925f6300-c373-4867-9f62-22bd777e9511",
   "metadata": {},
   "source": [
    "Relative free energy calculations are computational alchemy! We will transform our reference molecule (ethane) into the perturbed molecule (methanol) and will calculate the change in free energy during this transformation.\n",
    "\n",
    "First, we have to map the atoms of the reference molecule onto the perturbed molecule."
   ]
  },
  {
   "cell_type": "code",
   "execution_count": null,
   "id": "fac1aa45-f54b-411c-a91f-19cf9f7e94e1",
   "metadata": {},
   "outputs": [],
   "source": [
    "mapping = BSS.Align.matchAtoms(ethane, methanol)"
   ]
  },
  {
   "cell_type": "markdown",
   "id": "0f8c83a2-47de-44ff-a898-bfcf047bbddb",
   "metadata": {},
   "source": [
    "BioSimSpace provides a neat visualisation of this mapping via py3dmol"
   ]
  },
  {
   "cell_type": "code",
   "execution_count": null,
   "id": "ef86a30f-3144-465e-baee-c09d07cffb99",
   "metadata": {},
   "outputs": [],
   "source": [
    "BSS.Align.viewMapping(ethane, methanol, mapping)"
   ]
  },
  {
   "cell_type": "markdown",
   "id": "5d140c79-8866-4ea1-a5f3-f295218f61bc",
   "metadata": {},
   "source": [
    "Using this mapping, we now need to align methanol on top of ethane, such that mapped atoms are (almost) directly on top of each other."
   ]
  },
  {
   "cell_type": "code",
   "execution_count": null,
   "id": "f704f54d-66f2-4b7c-badf-856c9bbd0c79",
   "metadata": {},
   "outputs": [],
   "source": [
    "ethane = BSS.Align.rmsdAlign(ethane, methanol, mapping)"
   ]
  },
  {
   "cell_type": "markdown",
   "id": "94b5be84-6f69-4fb2-95b7-4ee239fd2c0d",
   "metadata": {},
   "source": [
    "We are now ready to merge these two molecules together. This will create a hybrid molecule which contains the parameters and coordinates of both. This hybrid merged molecule can be transformed using a λ-coordinate.\n",
    "\n",
    "The aim is that the merged molecule looks like ethane at λ=0, and it looks like methanol at λ=1."
   ]
  },
  {
   "cell_type": "code",
   "execution_count": null,
   "id": "7b84bd1f-60dc-4c4b-aad2-d4f2650ee1b5",
   "metadata": {},
   "outputs": [],
   "source": [
    "merged = BSS.Align.merge(ethane, methanol, mapping)"
   ]
  },
  {
   "cell_type": "markdown",
   "id": "c6af7d3f-1e95-41fd-a6a8-323a18da6a96",
   "metadata": {},
   "source": [
    "Here is the merged molecule at λ=0"
   ]
  },
  {
   "cell_type": "code",
   "execution_count": null,
   "id": "f18705a6-ec17-4575-ae48-31c7ae4b0184",
   "metadata": {},
   "outputs": [],
   "source": [
    "view = BSS.Notebook.View(merged.molecule0())\n",
    "view.system()"
   ]
  },
  {
   "cell_type": "markdown",
   "id": "c8faf84e-e4d3-497d-b85f-c87824cead49",
   "metadata": {},
   "source": [
    "And here it is at λ=1"
   ]
  },
  {
   "cell_type": "code",
   "execution_count": null,
   "id": "77817e49-2ee7-42cd-9e93-1cbfbe2f3c0a",
   "metadata": {},
   "outputs": [],
   "source": [
    "view = BSS.Notebook.View(merged.molecule1())\n",
    "view.system()"
   ]
  },
  {
   "cell_type": "markdown",
   "id": "42b3de3e-c83b-4588-abe7-ac7f4c895be3",
   "metadata": {},
   "source": [
    "We now need to solvate this molecule in water, just as we did before. This uses gmx solvate from GROMACS under the hood."
   ]
  },
  {
   "cell_type": "code",
   "execution_count": null,
   "id": "47065988-3f6f-497a-929f-4e8aa0703156",
   "metadata": {},
   "outputs": [],
   "source": [
    "solvated = BSS.Solvent.tip3p(molecule=merged, box=3 * [5 * BSS.Units.Length.nanometer])"
   ]
  },
  {
   "cell_type": "markdown",
   "id": "3df7b51c-cdad-48cb-839b-29e3ea8e1332",
   "metadata": {},
   "source": [
    "Now we create the simulation protocol. This time we will use a free energy protocol. This protocol runs multiple molecular dynamics simulations, one for each λ-value. Here we will use four λ-values, running 5 ps of dynamics in each window."
   ]
  },
  {
   "cell_type": "code",
   "execution_count": null,
   "id": "ffa918ad-fad5-47f1-83ee-b56c3d56493d",
   "metadata": {},
   "outputs": [],
   "source": [
    "protocol = BSS.Protocol.FreeEnergyProduction(num_lam=4, runtime=5*BSS.Units.Time.picosecond)"
   ]
  },
  {
   "cell_type": "markdown",
   "id": "46d44d74-e8c8-4152-8e35-c673c80a07c3",
   "metadata": {},
   "source": [
    "Just like before, we can set up a simulation by combining a system and a protocol. Here we combine the system with the free energy protocol, passing it to the `FreeEnergy.Relative` driver. This adapts the system and protocol for whatever underlying engine is on your system. Here we choose GROMACS."
   ]
  },
  {
   "cell_type": "code",
   "execution_count": null,
   "id": "d83f297a-bf0f-4263-8485-204f8269eab8",
   "metadata": {},
   "outputs": [],
   "source": [
    "free_gmx = BSS.FreeEnergy.Relative(solvated, protocol, engine=\"gromacs\", work_dir=\"freenrg_gmx/free\")"
   ]
  },
  {
   "cell_type": "markdown",
   "id": "6cff85e5-e293-4215-8c68-3b5a4a177bdd",
   "metadata": {},
   "source": [
    "This creates the `freenrg_gmx/free` directory, in which there is a simulation directory for each λ-value."
   ]
  },
  {
   "cell_type": "code",
   "execution_count": null,
   "id": "152ec586-f735-40fc-ab6a-cff9498f7304",
   "metadata": {},
   "outputs": [],
   "source": [
    "!ls freenrg_gmx/free"
   ]
  },
  {
   "cell_type": "code",
   "execution_count": null,
   "id": "ae1fcb2a-c2d7-44d9-a058-cb4ddf72db76",
   "metadata": {},
   "outputs": [],
   "source": [
    "!ls freenrg_gmx/free/lambda_0.0000"
   ]
  },
  {
   "cell_type": "markdown",
   "id": "5896fad3-093c-491b-bbe7-22598dd0736a",
   "metadata": {},
   "source": [
    "We need to run two relative free energy calculations - one for the perturbation in water, and one in vacuum. Here we set up the input files needed for the vacuum calculation. "
   ]
  },
  {
   "cell_type": "code",
   "execution_count": null,
   "id": "ce2f9e9a-6636-4d19-81b4-5a13f1ea4da7",
   "metadata": {},
   "outputs": [],
   "source": [
    "vac_gmx = BSS.FreeEnergy.Relative(merged.toSystem(), protocol, engine=\"gromacs\", work_dir=\"freenrg_gmx/vacuum\")"
   ]
  },
  {
   "cell_type": "markdown",
   "id": "aa667358-4091-4048-8269-a1c67ecfcb2c",
   "metadata": {},
   "source": [
    "The above set up the files for GROMACS. You could take these and submit them to a cluster to run. But we have the same code to create the input files for other free energy engines, e.g. here we create the input files for `somd`."
   ]
  },
  {
   "cell_type": "code",
   "execution_count": null,
   "id": "e1471b54-6d97-4bc9-a45c-7f90b2ff71a6",
   "metadata": {},
   "outputs": [],
   "source": [
    "free_somd = BSS.FreeEnergy.Relative(solvated, protocol, engine=\"somd\", work_dir=\"freenrg_somd/free\")"
   ]
  },
  {
   "cell_type": "code",
   "execution_count": null,
   "id": "23c1901d-0c01-4c99-8030-29f405588c47",
   "metadata": {},
   "outputs": [],
   "source": [
    "vac_somd = BSS.FreeEnergy.Relative(merged.toSystem(), protocol, engine=\"somd\", work_dir=\"freenrg_somd/vacuum\")"
   ]
  },
  {
   "cell_type": "code",
   "execution_count": null,
   "id": "6a9a929f-c647-415b-83ec-e0662a06f0e6",
   "metadata": {},
   "outputs": [],
   "source": [
    "!ls freenrg_somd/vacuum"
   ]
  },
  {
   "cell_type": "code",
   "execution_count": null,
   "id": "f7316c00-2a2f-415b-8226-51d65e5eb0e5",
   "metadata": {},
   "outputs": [],
   "source": [
    "!ls freenrg_somd/vacuum/lambda_0.0000"
   ]
  },
  {
   "cell_type": "markdown",
   "id": "12ba6c0c-8aeb-4d03-ad9a-763cd728b6c1",
   "metadata": {},
   "source": [
    "`somd` is GPU-accelerated, so we can run the vacuum simulations live here!"
   ]
  },
  {
   "cell_type": "code",
   "execution_count": null,
   "id": "71c9b710-6fc3-4107-92ea-6604ebd31cd1",
   "metadata": {},
   "outputs": [],
   "source": [
    "vac_somd.run()"
   ]
  },
  {
   "cell_type": "code",
   "execution_count": null,
   "id": "5739378a-ee2e-47f0-bd37-30119e21f1c8",
   "metadata": {},
   "outputs": [],
   "source": [
    "vac_somd.wait()"
   ]
  },
  {
   "cell_type": "markdown",
   "id": "fce413ad-163c-4b64-8a03-34b3293b3fa7",
   "metadata": {},
   "source": [
    "The simulations in the water box take a bit longer (about 10 minutes). We could run them now, but \"here's one I prepared earlier\" :-)"
   ]
  },
  {
   "cell_type": "code",
   "execution_count": null,
   "id": "f0444554-7782-4237-a7ad-539986a09382",
   "metadata": {},
   "outputs": [],
   "source": [
    "# free_somd.run() - this takes about 10 minutes\n",
    "# free_somd.wait()"
   ]
  },
  {
   "cell_type": "code",
   "execution_count": null,
   "id": "12d6c843-1373-4c24-8589-411e9fc8c681",
   "metadata": {},
   "outputs": [],
   "source": [
    "!ls example_somd/free/lambda_0.0000"
   ]
  },
  {
   "cell_type": "markdown",
   "id": "2835e389-134d-4ef5-974d-03ff2c2b29f3",
   "metadata": {},
   "source": [
    "We analyse the results by passing in the name of the directory that contains the simulations to the `analyse` function. Let's first calculate the free energy of transforming ethane to methanol in vacuum..,"
   ]
  },
  {
   "cell_type": "code",
   "execution_count": null,
   "id": "2e762871-2716-431c-9978-c8fd8a3ad5b8",
   "metadata": {},
   "outputs": [],
   "source": [
    "vac_pmf, overlaps = BSS.FreeEnergy.Relative.analyse(\"freenrg_somd/vacuum\")\n",
    "vac_pmf"
   ]
  },
  {
   "cell_type": "markdown",
   "id": "073c78f7-0431-4305-a5e3-be1a28387786",
   "metadata": {},
   "source": [
    "Now we will calculate the free energy of transforming ethane to methanol in water..."
   ]
  },
  {
   "cell_type": "code",
   "execution_count": null,
   "id": "38c9d057-6eac-481e-93fe-4e3c0cb068c2",
   "metadata": {},
   "outputs": [],
   "source": [
    "free_pmf, overlaps = BSS.FreeEnergy.Relative.analyse(\"example_somd/free\")\n",
    "free_pmf"
   ]
  },
  {
   "cell_type": "markdown",
   "id": "280827f8-b4b2-4a26-ada3-7b79c5ba6b15",
   "metadata": {},
   "source": [
    "The difference between these two is the relative hydration free energy."
   ]
  },
  {
   "cell_type": "code",
   "execution_count": null,
   "id": "d8172cd4-246e-40d4-84e1-9222930b55ef",
   "metadata": {},
   "outputs": [],
   "source": [
    "free_nrg = BSS.FreeEnergy.Relative.difference(free_pmf, vac_pmf)\n",
    "free_nrg"
   ]
  },
  {
   "cell_type": "markdown",
   "id": "9f057335-ae6d-47b2-8ca0-17a49b5b6c4e",
   "metadata": {},
   "source": [
    "Not bad, given the experimental value is -6.90 kcal mol-1."
   ]
  }
 ],
 "metadata": {
  "kernelspec": {
   "display_name": "Python 3 (ipykernel)",
   "language": "python",
   "name": "python3"
  },
  "language_info": {
   "codemirror_mode": {
    "name": "ipython",
    "version": 3
   },
   "file_extension": ".py",
   "mimetype": "text/x-python",
   "name": "python",
   "nbconvert_exporter": "python",
   "pygments_lexer": "ipython3",
   "version": "3.11.4"
  }
 },
 "nbformat": 4,
 "nbformat_minor": 5
}
