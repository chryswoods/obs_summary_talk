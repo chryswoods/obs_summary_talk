{
 "cells": [
  {
   "cell_type": "markdown",
   "id": "292a81a1-17eb-4fef-9942-644044aba72e",
   "metadata": {},
   "source": [
    "# BioSimSpace - quick demo\n",
    "\n",
    "Import BioSimSpace - we import it as BSS as we are lazy ;-)"
   ]
  },
  {
   "cell_type": "code",
   "execution_count": null,
   "id": "c9d3819d-d5a7-4b33-8171-d958fe0300b0",
   "metadata": {},
   "outputs": [],
   "source": [
    "import BioSimSpace as BSS"
   ]
  },
  {
   "cell_type": "markdown",
   "id": "4514a269-e0c9-4c3d-b4f2-200927480814",
   "metadata": {},
   "source": [
    "Create a molecule from a smiles string and parameterise it using the Amber GAFF forcefield"
   ]
  },
  {
   "cell_type": "code",
   "execution_count": null,
   "id": "af3e7580-39fc-4e24-8c01-138020535ffc",
   "metadata": {},
   "outputs": [],
   "source": [
    "mol = BSS.Parameters.gaff(\"Cc1ccccc1\").getMolecule()"
   ]
  },
  {
   "cell_type": "markdown",
   "id": "25bc61b0-f7bb-4b21-91fb-b5c4183e0710",
   "metadata": {},
   "source": [
    "View the molecule using BioSimSpace's integration with NGLView"
   ]
  },
  {
   "cell_type": "code",
   "execution_count": null,
   "id": "10caa648-c4fb-4999-8bcb-58d87df37a11",
   "metadata": {},
   "outputs": [],
   "source": [
    "view = BSS.Notebook.View(mol)\n",
    "view.system()"
   ]
  },
  {
   "cell_type": "markdown",
   "id": "cf9da2fb-81c9-401a-9a85-be7b3e6e1762",
   "metadata": {},
   "source": [
    "Under the hood, BioSimSpace used RDKit to create the molecule from the smiles string, and then AmberTools to generate the GAFF parameters. BioSimSpace supports the use of other tools to parameterise molecules. We can get the full list of forcefields supported using the `forceFields` function. "
   ]
  },
  {
   "cell_type": "code",
   "execution_count": null,
   "id": "47ac46f4-47e2-449f-8094-02d296aa7cfa",
   "metadata": {
    "scrolled": true
   },
   "outputs": [],
   "source": [
    "BSS.Parameters.forceFields()"
   ]
  },
  {
   "cell_type": "markdown",
   "id": "6e1cd1a0-a00e-42ef-ab5b-f4a370964b0a",
   "metadata": {},
   "source": [
    "Here we will now create a molecule from a smiles string and parameterise using the OpenFF unconstrained 1.3.1 forcefield."
   ]
  },
  {
   "cell_type": "code",
   "execution_count": null,
   "id": "df1a9609-63a9-47b2-b24d-319662aa4fe3",
   "metadata": {},
   "outputs": [],
   "source": [
    "mol = BSS.Parameters.openff_unconstrained_1_3_1(\"Cc1ccccc1\").getMolecule()"
   ]
  },
  {
   "cell_type": "markdown",
   "id": "07794827-a3b6-42c6-b5ef-302c63019133",
   "metadata": {},
   "source": [
    "It is the same process and same molecule, but now with different forcefield parameters."
   ]
  },
  {
   "cell_type": "code",
   "execution_count": null,
   "id": "9f43a86c-9615-4457-b5e0-edb6c211d008",
   "metadata": {},
   "outputs": [],
   "source": [
    "view = BSS.Notebook.View(mol)\n",
    "view.system()"
   ]
  },
  {
   "cell_type": "markdown",
   "id": "6bc9ddeb-afb6-4997-966c-77bedd884cb2",
   "metadata": {},
   "source": [
    "We can call other external tools to solvate this molecule. We do that by specifying the dimensions of the periodic box..."
   ]
  },
  {
   "cell_type": "code",
   "execution_count": null,
   "id": "58fbbdab-fa89-42f1-94ee-3e1971d96a51",
   "metadata": {},
   "outputs": [],
   "source": [
    "box, angles = BSS.Box.truncatedOctahedron(35 * BSS.Units.Length.angstrom)"
   ]
  },
  {
   "cell_type": "markdown",
   "id": "a43d2c00-6b65-469c-95d1-a2d4fae2907e",
   "metadata": {},
   "source": [
    "...and then calling `BSS.Solvent.model`, where `model` is the water model we want to use (in this case TIP3P). This solvates using the `gmx solvate` command from GROMACS."
   ]
  },
  {
   "cell_type": "code",
   "execution_count": null,
   "id": "db54c0a6-d3de-460a-aba8-45cbbf1c80a6",
   "metadata": {},
   "outputs": [],
   "source": [
    "solvated = BSS.Solvent.tip3p(molecule=mol, box=box, angles=angles)"
   ]
  },
  {
   "cell_type": "markdown",
   "id": "d491ed05-04fb-496e-8550-74b41ab40f1c",
   "metadata": {},
   "source": [
    "We now have the molecule in a water box."
   ]
  },
  {
   "cell_type": "code",
   "execution_count": null,
   "id": "cc78fd03-f664-468d-a824-16abee0301e3",
   "metadata": {},
   "outputs": [],
   "source": [
    "view = BSS.Notebook.View(solvated)\n",
    "view.system()"
   ]
  },
  {
   "cell_type": "markdown",
   "id": "22daea62-cd59-4d4a-b14a-18d802815a8f",
   "metadata": {},
   "source": [
    "Next we want to minimise the system. We do this by choosing the `Minimisation` protocol and setting the maximum number of steps."
   ]
  },
  {
   "cell_type": "code",
   "execution_count": null,
   "id": "20aab6df-8fc1-4d98-bd11-78fee609a025",
   "metadata": {},
   "outputs": [],
   "source": [
    "protocol = BSS.Protocol.Minimisation(steps=1000)"
   ]
  },
  {
   "cell_type": "markdown",
   "id": "0a447d62-ca41-45fe-a607-9121f13e6649",
   "metadata": {},
   "source": [
    "We now run the simulation by passing the system and protocol to `BSS.MD.run`."
   ]
  },
  {
   "cell_type": "code",
   "execution_count": null,
   "id": "8cd5b49d-ec0e-409d-9c11-985627f6cb20",
   "metadata": {},
   "outputs": [],
   "source": [
    "process = BSS.MD.run(solvated, protocol)"
   ]
  },
  {
   "cell_type": "markdown",
   "id": "f76ec3c4-4ba6-43cf-8e61-2da3f29b0d27",
   "metadata": {},
   "source": [
    "At the end of the simulation, we can get back the minimised system."
   ]
  },
  {
   "cell_type": "code",
   "execution_count": null,
   "id": "06590d49-8572-4e53-aa67-2d36baf26e28",
   "metadata": {},
   "outputs": [],
   "source": [
    "minimised_system = process.getSystem(block=True)\n",
    "view = BSS.Notebook.View(solvated)\n",
    "view.system()"
   ]
  },
  {
   "cell_type": "markdown",
   "id": "c82dd36c-debe-4329-a04a-7b1e2812dc91",
   "metadata": {},
   "source": [
    "The simulation was performed by GROMACS. We can see this by looking at the process that was used..."
   ]
  },
  {
   "cell_type": "code",
   "execution_count": null,
   "id": "521485a9-5c5f-4924-9a1a-1b7e38f24dc1",
   "metadata": {},
   "outputs": [],
   "source": [
    "process"
   ]
  },
  {
   "cell_type": "markdown",
   "id": "e8778e14-5616-4e89-bcbf-0aae0d9763af",
   "metadata": {},
   "source": [
    "This `process` is a handle to the underlying GROMACS simulation that was run. It knows how to speak to GROMACS and how to get information from the output files it produced. For example, we could get the final potential energy."
   ]
  },
  {
   "cell_type": "code",
   "execution_count": null,
   "id": "df0aa9db-d6ef-43d1-a6d5-f4287e5095a6",
   "metadata": {},
   "outputs": [],
   "source": [
    "process.getPotentialEnergy()"
   ]
  },
  {
   "cell_type": "markdown",
   "id": "a7c39754-f891-4248-b980-b6eb4fd0ce11",
   "metadata": {},
   "source": [
    "We can also get the standard output from the job..."
   ]
  },
  {
   "cell_type": "code",
   "execution_count": null,
   "id": "f3a6cca5-0a6d-4444-8f5c-1358d93f52f9",
   "metadata": {},
   "outputs": [],
   "source": [
    "process.stdout()"
   ]
  },
  {
   "cell_type": "markdown",
   "id": "a3e93ce3-7c5c-4db4-9f4a-d2127e7e2316",
   "metadata": {},
   "source": [
    "...or any of the files that this job created."
   ]
  },
  {
   "cell_type": "code",
   "execution_count": null,
   "id": "c204e11b-18eb-4b4d-817a-927ea5d7c111",
   "metadata": {},
   "outputs": [],
   "source": [
    "import os\n",
    "os.listdir(process.workDir())"
   ]
  },
  {
   "cell_type": "markdown",
   "id": "8931ae64-65ae-4699-beba-86bab384b675",
   "metadata": {},
   "source": [
    "The value of BioSimSpace is that we have the same interface for a number of molecular dynamics engines."
   ]
  },
  {
   "cell_type": "code",
   "execution_count": null,
   "id": "e4b63ba1-5f1b-4159-a674-51688848bab8",
   "metadata": {},
   "outputs": [],
   "source": [
    "BSS.MD.engines()"
   ]
  },
  {
   "cell_type": "markdown",
   "id": "80845d32-5ead-4ed8-8721-7e3819c5d7cc",
   "metadata": {},
   "source": [
    "We can switch to use Amber for minimisation just by changing the `engine` parameter. "
   ]
  },
  {
   "cell_type": "code",
   "execution_count": null,
   "id": "7a56d041-f11d-4f54-9b9a-31952f8de451",
   "metadata": {},
   "outputs": [],
   "source": [
    "process = BSS.MD.run(solvated, protocol, engine=\"Amber\")"
   ]
  },
  {
   "cell_type": "markdown",
   "id": "390b8eba-7b74-4076-a686-b4f3f2726ef7",
   "metadata": {},
   "source": [
    "This is a bit slower, so you can watch the standard output being generated in real time..."
   ]
  },
  {
   "cell_type": "code",
   "execution_count": null,
   "id": "5a36f795-5cd2-4a78-9729-d1ff3a952cb2",
   "metadata": {},
   "outputs": [],
   "source": [
    "process.stdout()"
   ]
  },
  {
   "cell_type": "markdown",
   "id": "7d660469-2cb3-4cb2-9cf7-af3a36586e95",
   "metadata": {},
   "source": [
    "...and even view snapshots during the process."
   ]
  },
  {
   "cell_type": "code",
   "execution_count": null,
   "id": "5f03b339-e70e-49b8-aaae-85c819de1068",
   "metadata": {},
   "outputs": [],
   "source": [
    "view = BSS.Notebook.View(process)\n",
    "view.system()"
   ]
  },
  {
   "cell_type": "markdown",
   "id": "8931d949-c762-499d-ab7a-4b4bb27377e9",
   "metadata": {},
   "source": [
    "But, at the end, we still get the minimimised structure, in the same format that we can then pass onto the next stage of the workflow."
   ]
  },
  {
   "cell_type": "code",
   "execution_count": null,
   "id": "9a58a056-2dd1-4da5-bf0d-9cc2c5350519",
   "metadata": {},
   "outputs": [],
   "source": [
    "minimised_system = process.getSystem(block=True)"
   ]
  },
  {
   "cell_type": "code",
   "execution_count": null,
   "id": "66141ea4-f217-47a6-ba1f-798f07f26bb1",
   "metadata": {},
   "outputs": [],
   "source": []
  }
 ],
 "metadata": {
  "kernelspec": {
   "display_name": "Python 3 (ipykernel)",
   "language": "python",
   "name": "python3"
  },
  "language_info": {
   "codemirror_mode": {
    "name": "ipython",
    "version": 3
   },
   "file_extension": ".py",
   "mimetype": "text/x-python",
   "name": "python",
   "nbconvert_exporter": "python",
   "pygments_lexer": "ipython3",
   "version": "3.11.4"
  }
 },
 "nbformat": 4,
 "nbformat_minor": 5
}
