{
 "cells": [
  {
   "cell_type": "markdown",
   "id": "a3573462-f7d4-4e67-beba-07c531bc53ad",
   "metadata": {},
   "source": [
    "# Sire - quick demo\n",
    "\n",
    "Import sire - we import it as `sr` as we are lazy ;-)"
   ]
  },
  {
   "cell_type": "code",
   "execution_count": null,
   "id": "8754b2a0-089e-4f23-8fa1-28dee08dd2f3",
   "metadata": {},
   "outputs": [],
   "source": [
    "import sire as sr"
   ]
  },
  {
   "cell_type": "markdown",
   "id": "00e18aa6-d987-45c0-b1c7-3aff417e76e3",
   "metadata": {},
   "source": [
    "Load some molecules - these can be loaded from local files or from URLs!\n",
    "\n",
    "Sire can read many different molecular file formats.\n",
    "\n",
    "It will automatically detect the file format and load the molecules using the right parser."
   ]
  },
  {
   "cell_type": "code",
   "execution_count": null,
   "id": "978e56c8-f7e5-4eb8-827a-bdf0287b2ad8",
   "metadata": {},
   "outputs": [],
   "source": [
    "mols = sr.load(\"input.top\", \"input.rst\")"
   ]
  },
  {
   "cell_type": "code",
   "execution_count": null,
   "id": "9d09c974-c835-4b0c-978f-e9cd0a530de8",
   "metadata": {},
   "outputs": [],
   "source": [
    "mols"
   ]
  },
  {
   "cell_type": "markdown",
   "id": "3853be34-16a6-4abe-b197-80983844002c",
   "metadata": {},
   "source": [
    "# Interoperability of molecular information 1 - NGLView\n",
    "\n",
    "The information contained in this system can be converted to a format recognised by NGLView.\n",
    "\n",
    "This let's us easily view the molecules in 3D."
   ]
  },
  {
   "cell_type": "code",
   "execution_count": null,
   "id": "bb614556-8596-4950-8aa0-4baa4f4bd32a",
   "metadata": {},
   "outputs": [],
   "source": [
    "mols.view()"
   ]
  },
  {
   "cell_type": "markdown",
   "id": "6de3dee2-7733-4bef-b315-76831ad7c06b",
   "metadata": {},
   "source": [
    "That was a little slow, as converting all of the water molecules took time. We often don't want to see all of the water molecules. Sire has in-built search, so we can search for all molecules which are `not water`."
   ]
  },
  {
   "cell_type": "code",
   "execution_count": null,
   "id": "96e275f8-cb4c-44e5-a2c0-0fa392362d0d",
   "metadata": {},
   "outputs": [],
   "source": [
    "mols_no_water = mols[\"not water\"]"
   ]
  },
  {
   "cell_type": "code",
   "execution_count": null,
   "id": "36675ab4-2da5-4429-8b78-598286faa858",
   "metadata": {
    "scrolled": true
   },
   "outputs": [],
   "source": [
    "mols_no_water.view()"
   ]
  },
  {
   "cell_type": "markdown",
   "id": "e09dcd53-3415-49cd-8b96-e9ae2534f4e0",
   "metadata": {},
   "source": [
    "That was much quicker!\n",
    "\n",
    "NGLView has lots of options for controlling the way the molecules are viewed. This can be controlled via options to the `view()` function."
   ]
  },
  {
   "cell_type": "code",
   "execution_count": null,
   "id": "059a7081-68af-48e9-a7e5-a2fdc63efeb5",
   "metadata": {
    "scrolled": true
   },
   "outputs": [],
   "source": [
    "mols_no_water.view(protein=[\"licorice\", \"surface:0.5\"], default=\"spacefill\")"
   ]
  },
  {
   "cell_type": "markdown",
   "id": "e0ddffc9-2bc6-462b-b871-57f83f437fc6",
   "metadata": {},
   "source": [
    "What molecules are in this system? We can quickly get an idea by printing them."
   ]
  },
  {
   "cell_type": "code",
   "execution_count": null,
   "id": "069f50de-4cb0-4bae-9e58-b0138b7ee06f",
   "metadata": {},
   "outputs": [],
   "source": [
    "mols_no_water"
   ]
  },
  {
   "cell_type": "markdown",
   "id": "19d0490d-0dcb-4574-8642-4f6836adaa99",
   "metadata": {},
   "source": [
    "The first molecule is the protein. The second looks like the ligand. The remainder are ions. Let's look at what appears to be the ligand."
   ]
  },
  {
   "cell_type": "code",
   "execution_count": null,
   "id": "a8206daf-da61-4248-91dd-f3e97144e7af",
   "metadata": {},
   "outputs": [],
   "source": [
    "ligand = mols_no_water[1]\n",
    "ligand.view()"
   ]
  },
  {
   "cell_type": "markdown",
   "id": "ca25214f-6186-4a9b-80e6-06f5cafad6f6",
   "metadata": {},
   "source": [
    "# Interoperability of molecular information 2 - RDKit\n",
    "\n",
    "sire can convert molecular information to and from RDKit. This means that we can use smiles and smarts strings to look for molecules. Maybe we know that the ligand contains an ether group. We could use that to search for the ligand by finding all non-protein matches for the smarts string `A-[#8]-A`."
   ]
  },
  {
   "cell_type": "code",
   "execution_count": null,
   "id": "1e1d4542-852a-4474-9a8f-826312f46003",
   "metadata": {},
   "outputs": [],
   "source": [
    "match = mols_no_water[\"not protein\"][\"smarts A-[#8]-A\"]\n",
    "match"
   ]
  },
  {
   "cell_type": "markdown",
   "id": "6b2bce6c-aa27-4a40-a8ab-b77e0ade634b",
   "metadata": {},
   "source": [
    "There is one match, which will be in `match.group(0)`. We can get the molecule containing the match using the `.molecule()` function."
   ]
  },
  {
   "cell_type": "code",
   "execution_count": null,
   "id": "664abe7b-73ae-4d1e-a9d5-70f6626b3b42",
   "metadata": {},
   "outputs": [],
   "source": [
    "ligand = match.group(0).molecule()\n",
    "ligand.view()"
   ]
  },
  {
   "cell_type": "markdown",
   "id": "f6131b3b-f007-48d9-9834-587e8f6f0561",
   "metadata": {},
   "source": [
    "Interoperability with RDKit let's sire render 2D views of molecules too!"
   ]
  },
  {
   "cell_type": "code",
   "execution_count": null,
   "id": "38e18961-31b0-46df-a864-8a7ce1829bc0",
   "metadata": {},
   "outputs": [],
   "source": [
    "ligand.view2d()"
   ]
  },
  {
   "cell_type": "markdown",
   "id": "455495ed-b2bd-4eba-94b0-1ac4d010330c",
   "metadata": {},
   "source": [
    "And their smiles strings!"
   ]
  },
  {
   "cell_type": "code",
   "execution_count": null,
   "id": "3d1c4587-ad98-425f-97fa-046b62cd0e38",
   "metadata": {},
   "outputs": [],
   "source": [
    "smiles_string = ligand.smiles()\n",
    "smiles_string"
   ]
  },
  {
   "cell_type": "markdown",
   "id": "213c5533-8f75-464c-856f-81cd45475e61",
   "metadata": {},
   "source": [
    "Indeed, we could have found the ligand via its smiles string..."
   ]
  },
  {
   "cell_type": "code",
   "execution_count": null,
   "id": "b95cda22-ffa5-4667-a87a-5c11126a3f24",
   "metadata": {},
   "outputs": [],
   "source": [
    "match = mols_no_water[\"not protein\"][\"smiles CCC(CC)OC1C=C(C(=O)[O-])CC([NH3+])C1NC(C)=O\"]\n",
    "match"
   ]
  },
  {
   "cell_type": "code",
   "execution_count": null,
   "id": "c1ebf1f4-840f-4251-a1e1-247f18b8f2df",
   "metadata": {},
   "outputs": [],
   "source": [
    "match.group(0).view()"
   ]
  },
  {
   "cell_type": "markdown",
   "id": "54606a1a-690b-4e1b-a06a-5cbda34a05bc",
   "metadata": {},
   "source": [
    "This was possible because, under the hood, sire converts the molecule into a native RDKit molecule"
   ]
  },
  {
   "cell_type": "code",
   "execution_count": null,
   "id": "a862e5f3-c582-4560-8c94-85d71b1643fe",
   "metadata": {},
   "outputs": [],
   "source": [
    "rdkit_mol = sr.convert.to(ligand, \"rdkit\")\n",
    "print(type(rdkit_mol))\n",
    "rdkit_mol"
   ]
  },
  {
   "cell_type": "markdown",
   "id": "51f49c07-daa0-4dda-9f00-65d0080303e7",
   "metadata": {},
   "source": [
    "It can also go the other way - converting a native RDKit molecule into a sire molecule!"
   ]
  },
  {
   "cell_type": "code",
   "execution_count": null,
   "id": "f4ffeb04-976a-4021-a4f9-cdd7e9a9b78e",
   "metadata": {},
   "outputs": [],
   "source": [
    "sire_mol = sr.convert.to(rdkit_mol, \"sire\")\n",
    "sire_mol.view()"
   ]
  },
  {
   "cell_type": "markdown",
   "id": "4a4f9fbd-d9aa-440e-8f9b-0dd58746fb35",
   "metadata": {},
   "source": [
    "# Loading from URLs\n",
    "\n",
    "We can load molecules from URLs - this can be really convenient, as the files are downloaded for you automatically."
   ]
  },
  {
   "cell_type": "code",
   "execution_count": null,
   "id": "d5ece81d-811b-40b0-9a21-ca5f1f0d93d2",
   "metadata": {},
   "outputs": [],
   "source": [
    "mols = sr.load(\"https://sire.openbiosim.org/m/kigaki.gro\", \"https://sire.openbiosim.org/m/kigaki.top\", silent=True)"
   ]
  },
  {
   "cell_type": "code",
   "execution_count": null,
   "id": "92f70adc-6c14-4a63-bdbe-acaa7c7c3dae",
   "metadata": {},
   "outputs": [],
   "source": [
    "mols.view()"
   ]
  },
  {
   "cell_type": "markdown",
   "id": "e3d23853-dddb-4121-a2cb-8cd1144db88c",
   "metadata": {},
   "source": [
    "This is a small peptide chain in water. Let's view this with the water disabled."
   ]
  },
  {
   "cell_type": "code",
   "execution_count": null,
   "id": "0e4a6e76-fd09-4a35-b0ab-216a3c4446e6",
   "metadata": {
    "scrolled": true
   },
   "outputs": [],
   "source": [
    "mols.view(water=None, protein=\"licorice\")"
   ]
  },
  {
   "cell_type": "markdown",
   "id": "81bde967-5269-4807-9543-4ddfdc645809",
   "metadata": {},
   "source": [
    "Viewing the entire system in 2D will convert everything to RDKit. Each molecule is grouped by structure.\n",
    "\n",
    "Here we can see that there was one peptide chain, 7 sodium ions, 14 chloride ions and 3599 water molecules."
   ]
  },
  {
   "cell_type": "code",
   "execution_count": null,
   "id": "8912704b-5d56-43b2-82d1-4f718e596197",
   "metadata": {},
   "outputs": [],
   "source": [
    "mols.view2d()"
   ]
  },
  {
   "cell_type": "markdown",
   "id": "d0837904-00d2-4a01-a9f7-685dc74cc17c",
   "metadata": {},
   "source": [
    "# Interoperability of molecular information 3 - OpenMM\n",
    "\n",
    "sire can convert molecular information to and from OpenMM. Like for RDKit, this converts the sire molecules into native OpenMM molecules. You could use the standard OpenMM API to run simulations if you wanted."
   ]
  },
  {
   "cell_type": "code",
   "execution_count": null,
   "id": "0be52f0d-b53e-44c3-aa40-972a2bc92b8d",
   "metadata": {},
   "outputs": [],
   "source": [
    "openmm_mols = sr.convert.to(mols, \"openmm\")\n",
    "openmm_mols"
   ]
  },
  {
   "cell_type": "markdown",
   "id": "1c3b48c5-197d-4e86-98a9-ffe4e3f4fa06",
   "metadata": {},
   "source": [
    "To make things easier, sire provides high-level functions for running minimisation and dynamics."
   ]
  },
  {
   "cell_type": "code",
   "execution_count": null,
   "id": "e962ef3a-fe9f-4475-9802-f42e7e2fad08",
   "metadata": {},
   "outputs": [],
   "source": [
    "mols = mols.minimisation().run().commit()"
   ]
  },
  {
   "cell_type": "markdown",
   "id": "1989e77f-7b0b-4d9e-901f-b7a2130e235b",
   "metadata": {},
   "source": [
    "For dynamics, it is convenient to create a dynamics object that will run the simulation with the specified timestep."
   ]
  },
  {
   "cell_type": "code",
   "execution_count": null,
   "id": "21e7f195-9241-4325-8428-0ab64094df11",
   "metadata": {},
   "outputs": [],
   "source": [
    "d = mols.dynamics(timestep=\"4 fs\")"
   ]
  },
  {
   "cell_type": "markdown",
   "id": "71018632-ab24-4c61-9d0f-16d624330ce5",
   "metadata": {},
   "source": [
    "We can then run blocks of MD simulation, e.g."
   ]
  },
  {
   "cell_type": "code",
   "execution_count": null,
   "id": "527fba7e-431b-4d74-8395-0744e742138b",
   "metadata": {},
   "outputs": [],
   "source": [
    "d.run(\"5 ps\", save_frequency=\"0.5 ps\")"
   ]
  },
  {
   "cell_type": "code",
   "execution_count": null,
   "id": "23004fc8-25ba-4c2b-9859-0ca063086bb8",
   "metadata": {},
   "outputs": [],
   "source": [
    "d.run(\"2 ps\", save_frequency=\"0.5 ps\")"
   ]
  },
  {
   "cell_type": "markdown",
   "id": "28c4bce0-6656-47e9-949b-5327f8f42298",
   "metadata": {},
   "source": [
    "We extract the results by \"committing\" the simulation."
   ]
  },
  {
   "cell_type": "code",
   "execution_count": null,
   "id": "e512850f-c8d6-448d-84fd-ab106831240a",
   "metadata": {},
   "outputs": [],
   "source": [
    "mols = d.commit()"
   ]
  },
  {
   "cell_type": "markdown",
   "id": "95c86ff8-0365-45e7-a557-79d84c0a9377",
   "metadata": {},
   "source": [
    "Viewing a trajectory will use NGLView's support for playing movies!"
   ]
  },
  {
   "cell_type": "code",
   "execution_count": null,
   "id": "512bd6b7-8d79-4075-8a35-790c7cc26d78",
   "metadata": {},
   "outputs": [],
   "source": [
    "mols.view(protein=\"licorice\")"
   ]
  },
  {
   "cell_type": "markdown",
   "id": "06ba74da-d7f2-4f87-b21d-427fa030401b",
   "metadata": {},
   "source": [
    "Sire has an in-built molecular mechanics engine, so we can recalculate energies of any views. Here is the total energy."
   ]
  },
  {
   "cell_type": "code",
   "execution_count": null,
   "id": "54bf4c82-94f9-47f9-8b13-d2e868c5b72e",
   "metadata": {},
   "outputs": [],
   "source": [
    "mols.energy()"
   ]
  },
  {
   "cell_type": "markdown",
   "id": "43e3ff0a-11a0-4ce9-a56a-95f457bb310d",
   "metadata": {},
   "source": [
    "And here is the energy between the protein and water"
   ]
  },
  {
   "cell_type": "code",
   "execution_count": null,
   "id": "bf384b05-7d87-4c67-9ec4-30f82727972d",
   "metadata": {},
   "outputs": [],
   "source": [
    "mols[\"protein\"].energy(mols[\"water\"])"
   ]
  },
  {
   "cell_type": "markdown",
   "id": "aac1b230-46bc-4f1c-b852-fe713683bcb2",
   "metadata": {},
   "source": [
    "We can calculate these across trajectories. The results are put into pandas data frames."
   ]
  },
  {
   "cell_type": "code",
   "execution_count": null,
   "id": "5879937b-abc6-41b6-8caa-8846259549bb",
   "metadata": {},
   "outputs": [],
   "source": [
    "df = mols.trajectory().energy()"
   ]
  },
  {
   "cell_type": "code",
   "execution_count": null,
   "id": "0b2b53cc-28c9-4d60-8a02-2d0779e2d8d2",
   "metadata": {},
   "outputs": [],
   "source": [
    "df"
   ]
  },
  {
   "cell_type": "markdown",
   "id": "55c4bfd7-d347-4613-a2e6-d53450966b3c",
   "metadata": {},
   "source": [
    "Sire added a `pretty_plot()` function to the dataframe to make it easier to create quick graphs."
   ]
  },
  {
   "cell_type": "code",
   "execution_count": null,
   "id": "921c7df6-e045-4a93-ad1d-98c53721c5a1",
   "metadata": {},
   "outputs": [],
   "source": [
    "df.pretty_plot()"
   ]
  },
  {
   "cell_type": "markdown",
   "id": "4b921781-3b40-4845-8eb9-b37faecb6f42",
   "metadata": {},
   "source": [
    "You can do this for any energy component across the trajectory."
   ]
  },
  {
   "cell_type": "code",
   "execution_count": null,
   "id": "b08e8d05-bece-4a10-95ff-17b285833034",
   "metadata": {},
   "outputs": [],
   "source": [
    "df = mols[\"protein\"].trajectory().energy(mols[\"water\"])"
   ]
  },
  {
   "cell_type": "code",
   "execution_count": null,
   "id": "9935cb14-bf04-46af-8a05-f0208adb2afa",
   "metadata": {},
   "outputs": [],
   "source": [
    "df"
   ]
  },
  {
   "cell_type": "code",
   "execution_count": null,
   "id": "958d8185-16e0-4667-8588-8e5e92249b23",
   "metadata": {},
   "outputs": [],
   "source": [
    "df.pretty_plot()"
   ]
  },
  {
   "cell_type": "markdown",
   "id": "f3af0980-dce4-4e0d-a318-f9787fe60024",
   "metadata": {},
   "source": [
    "# Saving molecules and trajectories\n",
    "\n",
    "You can save molecule and trajectory information to files. Sire can write to many popular molecular file formats. For example, here we will save to Amber PRM / RST format."
   ]
  },
  {
   "cell_type": "code",
   "execution_count": null,
   "id": "966e657c-2cb6-4bd1-9a64-91e109de67cf",
   "metadata": {},
   "outputs": [],
   "source": [
    "f = sr.save(mols.trajectory(), \"md\", format=[\"PRM\", \"RST\"])\n",
    "f"
   ]
  },
  {
   "cell_type": "markdown",
   "id": "c7da4d4f-03c0-4b0f-b6b9-f4a94fa5ab10",
   "metadata": {},
   "source": [
    "The simulation is thus saved, ready to be loaded again for further analysis."
   ]
  },
  {
   "cell_type": "code",
   "execution_count": null,
   "id": "2aa6266b-98ed-466c-b7dc-3ee53c639870",
   "metadata": {},
   "outputs": [],
   "source": [
    "mols = sr.load(f)\n",
    "mols.view()"
   ]
  },
  {
   "cell_type": "code",
   "execution_count": null,
   "id": "1261e9ee-1cc1-4639-9524-4eefa6a729f5",
   "metadata": {},
   "outputs": [],
   "source": []
  }
 ],
 "metadata": {
  "kernelspec": {
   "display_name": "Python 3 (ipykernel)",
   "language": "python",
   "name": "python3"
  },
  "language_info": {
   "codemirror_mode": {
    "name": "ipython",
    "version": 3
   },
   "file_extension": ".py",
   "mimetype": "text/x-python",
   "name": "python",
   "nbconvert_exporter": "python",
   "pygments_lexer": "ipython3",
   "version": "3.11.4"
  }
 },
 "nbformat": 4,
 "nbformat_minor": 5
}
