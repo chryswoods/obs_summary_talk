{
 "cells": [
  {
   "cell_type": "markdown",
   "id": "50a8b44c-7346-488c-8367-72a7d9d6072c",
   "metadata": {},
   "source": [
    "# Molecular Information Engine\n",
    "\n",
    "Sire is a molecular information engine"
   ]
  },
  {
   "cell_type": "code",
   "execution_count": null,
   "id": "c776ae21-7adc-4c80-89d1-a84f81a72d2a",
   "metadata": {},
   "outputs": [],
   "source": [
    "import sire as sr"
   ]
  },
  {
   "cell_type": "markdown",
   "id": "94806a03-6b25-4058-8175-07e5f3f39e72",
   "metadata": {},
   "source": [
    "Start by creating a molecule from a smiles string"
   ]
  },
  {
   "cell_type": "code",
   "execution_count": null,
   "id": "89b10f7b-722b-49d0-9cc1-452ad42b587a",
   "metadata": {},
   "outputs": [],
   "source": [
    "mol = sr.smiles(\"OC[C@@H](O1)[C@@H](O)[C@H](O)[C@@H]2[C@@H]1c3c(O)c(OC)c(O)cc3C(=O)O2\")\n",
    "mol.view()"
   ]
  },
  {
   "cell_type": "code",
   "execution_count": null,
   "id": "e09ed27a-abce-40ce-a0be-fab93afb931d",
   "metadata": {},
   "outputs": [],
   "source": [
    "mol.view2d()"
   ]
  },
  {
   "cell_type": "markdown",
   "id": "eaa39fe8-e424-4be7-8f47-c0fe152dcaa3",
   "metadata": {},
   "source": [
    "The molecule is a container of molecular information."
   ]
  },
  {
   "cell_type": "code",
   "execution_count": null,
   "id": "f9770521-bfa7-4be5-aebf-c9757af8f231",
   "metadata": {},
   "outputs": [],
   "source": [
    "mol"
   ]
  },
  {
   "cell_type": "markdown",
   "id": "188604aa-b7e4-46f5-8033-9d48d4b8dfdd",
   "metadata": {},
   "source": [
    "Indeed, it is a \"molecule view\" of the underlying information. We can look at the \"atoms view\", i.e. all of the atoms that view this information."
   ]
  },
  {
   "cell_type": "code",
   "execution_count": null,
   "id": "efeee5c4-eedd-4302-8a72-0a3da9a5cf65",
   "metadata": {},
   "outputs": [],
   "source": [
    "mol.atoms()"
   ]
  },
  {
   "cell_type": "markdown",
   "id": "c838c543-3072-4bc0-a67b-832139962775",
   "metadata": {},
   "source": [
    "Or the \"residues view\""
   ]
  },
  {
   "cell_type": "code",
   "execution_count": null,
   "id": "8d67e3ee-eacf-4db2-8213-601c850a7a66",
   "metadata": {},
   "outputs": [],
   "source": [
    "mol.residues()"
   ]
  },
  {
   "cell_type": "markdown",
   "id": "97f50102-1a6a-400c-ae4a-d0b218a27096",
   "metadata": {},
   "source": [
    "We can even look at the bonds view of that information"
   ]
  },
  {
   "cell_type": "code",
   "execution_count": null,
   "id": "3db18b50-726b-4d99-8433-e93cebc93d82",
   "metadata": {},
   "outputs": [],
   "source": [
    "mol.bonds()"
   ]
  },
  {
   "cell_type": "markdown",
   "id": "396b3b38-471c-4fa9-b9ae-868a43076c06",
   "metadata": {},
   "source": [
    "This information can be used by the in-built search engine to return views where the information matches a query of that underlying information.\n",
    "\n",
    "Here, we find all of the \"atom\" views in the molecule where the \"element\" information matches \"Carbon\""
   ]
  },
  {
   "cell_type": "code",
   "execution_count": null,
   "id": "87ea69ea-c547-4dea-a712-6cd4e05bc1af",
   "metadata": {},
   "outputs": [],
   "source": [
    "mol[\"element C\"]"
   ]
  },
  {
   "cell_type": "markdown",
   "id": "d75595ce-10dd-4557-a154-5e1b1862a044",
   "metadata": {},
   "source": [
    "Or here, all of the bond views where one of the atoms is a carbon, and the other is a hydrogen"
   ]
  },
  {
   "cell_type": "code",
   "execution_count": null,
   "id": "c4913830-2b13-49c2-a9eb-904c3615af95",
   "metadata": {},
   "outputs": [],
   "source": [
    "mol[\"bonds from element C to element H\"]"
   ]
  },
  {
   "cell_type": "markdown",
   "id": "e16ab835-a1fa-413d-90c7-631ae804be12",
   "metadata": {},
   "source": [
    "The information is stored in the molecule as \"properties\". These are keyed, just like in a dictionary."
   ]
  },
  {
   "cell_type": "code",
   "execution_count": null,
   "id": "4ee24b4d-a5f4-476b-962d-025c621a2a83",
   "metadata": {},
   "outputs": [],
   "source": [
    "mol.property_keys()"
   ]
  },
  {
   "cell_type": "code",
   "execution_count": null,
   "id": "f95efac0-35b6-445b-9681-c3b3e5d7026a",
   "metadata": {},
   "outputs": [],
   "source": [
    "mol.property(\"element\")"
   ]
  },
  {
   "cell_type": "markdown",
   "id": "d58903e4-d404-468d-9707-f4f4364304fa",
   "metadata": {},
   "source": [
    "A `cursor` provides a convenient python-like dictionary interface to get and set molecular properties."
   ]
  },
  {
   "cell_type": "code",
   "execution_count": null,
   "id": "b66ecc5a-2a79-42b7-b3e8-93b056384a30",
   "metadata": {},
   "outputs": [],
   "source": [
    "c = mol.cursor()\n",
    "c"
   ]
  },
  {
   "cell_type": "code",
   "execution_count": null,
   "id": "776c5415-14c2-4f95-9963-ccbcaeb54405",
   "metadata": {},
   "outputs": [],
   "source": [
    "c.keys()"
   ]
  },
  {
   "cell_type": "code",
   "execution_count": null,
   "id": "9d8f74a0-5385-461b-93a1-0b62c76a35cd",
   "metadata": {},
   "outputs": [],
   "source": [
    "c[\"element\"]"
   ]
  },
  {
   "cell_type": "code",
   "execution_count": null,
   "id": "bb79b8bf-2f9f-4383-903b-e8bd8597f9a0",
   "metadata": {},
   "outputs": [],
   "source": [
    "c[\"coordinates\"]"
   ]
  },
  {
   "cell_type": "code",
   "execution_count": null,
   "id": "cfdf79e4-0731-4267-9609-ad961276da29",
   "metadata": {},
   "outputs": [],
   "source": [
    "c[\"chirality\"]"
   ]
  },
  {
   "cell_type": "markdown",
   "id": "3d0e8c94-d83d-4d72-bbe8-4363a7c79963",
   "metadata": {},
   "source": [
    "You can also create cursors that contain cursors of molecular views, e.g. here is a cursor that contains all of the cursors for all of the atoms."
   ]
  },
  {
   "cell_type": "code",
   "execution_count": null,
   "id": "127b2c47-a724-4170-a689-00aeaeed9f28",
   "metadata": {},
   "outputs": [],
   "source": [
    "c.atoms()"
   ]
  },
  {
   "cell_type": "markdown",
   "id": "1d370364-52b9-49c2-898a-fab344d76378",
   "metadata": {},
   "source": [
    "Here, we create a cursor that is just from the atom called `O1`."
   ]
  },
  {
   "cell_type": "code",
   "execution_count": null,
   "id": "4a838724-5d7d-41cf-a54f-7560f1bdee17",
   "metadata": {},
   "outputs": [],
   "source": [
    "o1 = c[\"O1\"]\n",
    "o1.keys()"
   ]
  },
  {
   "cell_type": "markdown",
   "id": "34303dd3-bc2a-46fa-8ed9-bb83a7032a3d",
   "metadata": {},
   "source": [
    "This lets us get and set individual atom properties."
   ]
  },
  {
   "cell_type": "code",
   "execution_count": null,
   "id": "08554b9b-4df7-4ac2-80cf-ef2f28731de0",
   "metadata": {},
   "outputs": [],
   "source": [
    "o1[\"coordinates\"]"
   ]
  },
  {
   "cell_type": "code",
   "execution_count": null,
   "id": "ba85ec7e-aa20-4eb2-8f89-6df84ffb2521",
   "metadata": {},
   "outputs": [],
   "source": [
    "o1[\"element\"]"
   ]
  },
  {
   "cell_type": "markdown",
   "id": "66a5c6ee-e338-4bd8-bacd-97b9227f952d",
   "metadata": {},
   "source": [
    "Here change the `element` property from oxygen to nitrogen."
   ]
  },
  {
   "cell_type": "code",
   "execution_count": null,
   "id": "99344526-15e0-42e9-afa0-33af5e0e7f7f",
   "metadata": {},
   "outputs": [],
   "source": [
    "o1[\"element\"] = sr.mol.Element(\"N\")\n",
    "o1[\"element\"]"
   ]
  },
  {
   "cell_type": "markdown",
   "id": "ba69c82c-7138-4d7e-b03e-c8aa6b293dbc",
   "metadata": {},
   "source": [
    "The properties of this molecule came originally from RDKit. We are free to create, edit and delete any properties we want. Properties can be completely arbitrary, e.g. here we give this oxygen a `cat` property that is equal to `meow`."
   ]
  },
  {
   "cell_type": "code",
   "execution_count": null,
   "id": "9aa2dbeb-3c68-4d72-b33b-bd915abac77e",
   "metadata": {},
   "outputs": [],
   "source": [
    "o1[\"cat\"] = \"meow\"\n",
    "o1[\"cat\"]"
   ]
  },
  {
   "cell_type": "markdown",
   "id": "4da9aac1-8033-40f6-8e89-bac5acbeb775",
   "metadata": {},
   "source": [
    "When we have finished, we commit the cursor to get back the edited molecule."
   ]
  },
  {
   "cell_type": "code",
   "execution_count": null,
   "id": "a0fa559b-ed05-454f-87d5-75b38087d942",
   "metadata": {},
   "outputs": [],
   "source": [
    "mol = c.commit()\n",
    "mol"
   ]
  },
  {
   "cell_type": "markdown",
   "id": "a1856b6e-a9b6-4bc0-9e8b-d89e9b52d7dc",
   "metadata": {},
   "source": [
    "As you can see, the properties really have changed."
   ]
  },
  {
   "cell_type": "code",
   "execution_count": null,
   "id": "ce8ffc91-2102-4bed-ac8c-31a0c6357b64",
   "metadata": {},
   "outputs": [],
   "source": [
    "mol.property(\"element\")"
   ]
  },
  {
   "cell_type": "code",
   "execution_count": null,
   "id": "00a5a7b3-5f41-4cd4-b7c2-4c5fbdf45ed0",
   "metadata": {},
   "outputs": [],
   "source": [
    "mol.property(\"cat\")"
   ]
  },
  {
   "cell_type": "markdown",
   "id": "2db05616-a75f-42a5-a247-c981bd9748c5",
   "metadata": {},
   "source": [
    "This includes when viewed from the \"atom\" view."
   ]
  },
  {
   "cell_type": "code",
   "execution_count": null,
   "id": "d2a34ccf-c625-4a29-9c44-ca1c7ad017bc",
   "metadata": {},
   "outputs": [],
   "source": [
    "o1 = mol[\"O1\"]\n",
    "o1"
   ]
  },
  {
   "cell_type": "code",
   "execution_count": null,
   "id": "2460d631-80d5-4873-8055-4055ad71f2fa",
   "metadata": {},
   "outputs": [],
   "source": [
    "o1.property(\"element\")"
   ]
  },
  {
   "cell_type": "code",
   "execution_count": null,
   "id": "6ce2e117-7d48-40fb-ad4e-8c1810442bee",
   "metadata": {},
   "outputs": [],
   "source": [
    "o1.property(\"cat\")"
   ]
  },
  {
   "cell_type": "markdown",
   "id": "485e730c-1490-4095-91fc-59cc3d773dd1",
   "metadata": {},
   "source": [
    "# Multi-molecule containers and cursors\n",
    "\n",
    "All of the above works for multi-molecule containers and cursors.\n",
    "\n",
    "Here we load up the peptide example again..."
   ]
  },
  {
   "cell_type": "code",
   "execution_count": null,
   "id": "4ba3070c-15a8-4b93-b87c-7ba746fac056",
   "metadata": {},
   "outputs": [],
   "source": [
    "mols = sr.load(sr.expand(sr.tutorial_url, \"kigaki.gro\", \"kigaki.top\"), silent=True)"
   ]
  },
  {
   "cell_type": "markdown",
   "id": "0117012d-efee-4bfe-8e83-84304f5ae826",
   "metadata": {},
   "source": [
    "Here are all of the carbon atoms across all of the molecules."
   ]
  },
  {
   "cell_type": "code",
   "execution_count": null,
   "id": "557057d0-2ce9-480f-b341-85bcddd9490d",
   "metadata": {},
   "outputs": [],
   "source": [
    "mols[\"element C\"]"
   ]
  },
  {
   "cell_type": "markdown",
   "id": "31250359-6a97-4b3c-9e2e-3f83d7ed2690",
   "metadata": {},
   "source": [
    "And here are the bonds between oxygen atoms"
   ]
  },
  {
   "cell_type": "code",
   "execution_count": null,
   "id": "e156270e-c2e5-4da0-b6d5-4ef10fbd91e1",
   "metadata": {},
   "outputs": [],
   "source": [
    "mols[\"element O\"]"
   ]
  },
  {
   "cell_type": "markdown",
   "id": "4f098a3e-0566-4fa5-b86d-28c5a3f4c051",
   "metadata": {},
   "source": [
    "We can use a cursor to give all of the oxygen atoms a `cat` property with value `meow`"
   ]
  },
  {
   "cell_type": "code",
   "execution_count": null,
   "id": "5294a9fb-4d8a-4cd6-9725-882a520c2d30",
   "metadata": {},
   "outputs": [],
   "source": [
    "o = mols[\"element O\"].cursor()\n",
    "o"
   ]
  },
  {
   "cell_type": "code",
   "execution_count": null,
   "id": "b280b678-5726-4b35-99cb-79cebc80fc29",
   "metadata": {},
   "outputs": [],
   "source": [
    "o[\"cat\"] = \"meow\""
   ]
  },
  {
   "cell_type": "code",
   "execution_count": null,
   "id": "1b2fa5b6-4554-41c7-b565-2e4761683d70",
   "metadata": {},
   "outputs": [],
   "source": [
    "mols = o.commit().molecules()\n",
    "mols"
   ]
  },
  {
   "cell_type": "code",
   "execution_count": null,
   "id": "c4493e82-3974-49b4-9335-91ab5b0cd342",
   "metadata": {},
   "outputs": [],
   "source": [
    "mols[0].property(\"cat\")"
   ]
  },
  {
   "cell_type": "markdown",
   "id": "71bea337-a50d-4414-9b94-58ad0dc551ca",
   "metadata": {},
   "source": [
    "We can even use these properties in searches, e.g. finding all atoms that have a `cat` property equal to `meow`"
   ]
  },
  {
   "cell_type": "code",
   "execution_count": null,
   "id": "b9e153f4-9b88-4bfe-8bb0-257d9e8b9188",
   "metadata": {},
   "outputs": [],
   "source": [
    "mols[\"atom property cat == meow\"]"
   ]
  },
  {
   "cell_type": "markdown",
   "id": "4627b945-a631-4256-9b5e-66e02d02b726",
   "metadata": {},
   "source": [
    "or all molecules that contain atoms with `cat` property equal to `meow`"
   ]
  },
  {
   "cell_type": "code",
   "execution_count": null,
   "id": "c2829e8f-700e-4b1c-b408-7f04164b38fb",
   "metadata": {},
   "outputs": [],
   "source": [
    "mols[\"molecules with atom property cat == meow\"]"
   ]
  },
  {
   "cell_type": "markdown",
   "id": "1fbcba79-0c45-4b56-8bdd-057a94b40400",
   "metadata": {},
   "source": [
    "This is (of course) equal to all of the molecules with oxygen atoms."
   ]
  },
  {
   "cell_type": "code",
   "execution_count": null,
   "id": "e10433a4-4ec1-4733-947c-359dec21cb3c",
   "metadata": {},
   "outputs": [],
   "source": [
    "mols[\"molecules with element O\"]"
   ]
  },
  {
   "cell_type": "code",
   "execution_count": null,
   "id": "f51b17b2-5d7e-4ec9-ad78-fc4102f48897",
   "metadata": {},
   "outputs": [],
   "source": []
  }
 ],
 "metadata": {
  "kernelspec": {
   "display_name": "Python 3 (ipykernel)",
   "language": "python",
   "name": "python3"
  },
  "language_info": {
   "codemirror_mode": {
    "name": "ipython",
    "version": 3
   },
   "file_extension": ".py",
   "mimetype": "text/x-python",
   "name": "python",
   "nbconvert_exporter": "python",
   "pygments_lexer": "ipython3",
   "version": "3.11.4"
  }
 },
 "nbformat": 4,
 "nbformat_minor": 5
}
